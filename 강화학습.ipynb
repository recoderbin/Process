{
  "nbformat": 4,
  "nbformat_minor": 0,
  "metadata": {
    "colab": {
      "provenance": [],
      "authorship_tag": "ABX9TyOWpdqBLcDmwL0Y1SPgjeTH",
      "include_colab_link": true
    },
    "kernelspec": {
      "name": "python3",
      "display_name": "Python 3"
    },
    "language_info": {
      "name": "python"
    }
  },
  "cells": [
    {
      "cell_type": "markdown",
      "metadata": {
        "id": "view-in-github",
        "colab_type": "text"
      },
      "source": [
        "<a href=\"https://colab.research.google.com/github/recoderbin/Process/blob/main/%EA%B0%95%ED%99%94%ED%95%99%EC%8A%B5.ipynb\" target=\"_parent\"><img src=\"https://colab.research.google.com/assets/colab-badge.svg\" alt=\"Open In Colab\"/></a>"
      ]
    },
    {
      "cell_type": "code",
      "source": [
        "#3장"
      ],
      "metadata": {
        "id": "jYIUXtuxvGFF"
      },
      "execution_count": null,
      "outputs": []
    },
    {
      "cell_type": "code",
      "source": [
        "import numpy as np\n",
        "L4 = [[2, 9, -5], [-1, 0, 4], [3, 1, 2]]\n",
        "mean = np.mean(L4)\n",
        "print(mean)"
      ],
      "metadata": {
        "colab": {
          "base_uri": "https://localhost:8080/"
        },
        "id": "VSle3s_LmIOc",
        "outputId": "14414c76-fc02-4433-bbbb-c0db61a1c9b4"
      },
      "execution_count": 2,
      "outputs": [
        {
          "output_type": "stream",
          "name": "stdout",
          "text": [
            "1.6666666666666667\n"
          ]
        }
      ]
    },
    {
      "cell_type": "code",
      "source": [
        "a=12\n",
        "if a % 3 == 0 :\n",
        "  print(str(a) + ' is disvisible by 3')\n",
        "else :\n",
        "  print(str(a) + ' is not disvisible by 3')"
      ],
      "metadata": {
        "colab": {
          "base_uri": "https://localhost:8080/"
        },
        "id": "exOAvjwynDoF",
        "outputId": "25674ca0-8543-452d-9faa-b847b5ad6260"
      },
      "execution_count": 5,
      "outputs": [
        {
          "output_type": "stream",
          "name": "stdout",
          "text": [
            "12 is disvisible by 3\n"
          ]
        }
      ]
    },
    {
      "cell_type": "code",
      "source": [
        "n = 5\n",
        "\n",
        "#for\n",
        "factorial = 1\n",
        "for i in range(1, n + 1):\n",
        "  factorial *= i\n",
        "print(factorial)\n",
        "\n",
        "#while\n",
        "factorial = 1\n",
        "i = 1\n",
        "while i <= n:\n",
        "  factorial *= i\n",
        "  i += 1\n",
        "print(factorial)"
      ],
      "metadata": {
        "colab": {
          "base_uri": "https://localhost:8080/"
        },
        "id": "kzWNZrGGtrl8",
        "outputId": "459967d0-2a4d-4e54-c753-3b176973ee87"
      },
      "execution_count": 7,
      "outputs": [
        {
          "output_type": "stream",
          "name": "stdout",
          "text": [
            "120\n",
            "120\n"
          ]
        }
      ]
    },
    {
      "cell_type": "code",
      "source": [
        "def distance(x1, y1, x2, y2):\n",
        "  d = pow(pow(x1 - x2, 2) + pow(y1 - y2, 2), 0.5)\n",
        "  return d\n",
        "\n",
        "dist = distance(0, 0, 3, 4)\n",
        "print(dist)"
      ],
      "metadata": {
        "colab": {
          "base_uri": "https://localhost:8080/"
        },
        "id": "LDStiO-nuVVl",
        "outputId": "248eddce-1788-4e00-8612-ac97fe8c78f3"
      },
      "execution_count": 8,
      "outputs": [
        {
          "output_type": "stream",
          "name": "stdout",
          "text": [
            "5.0\n"
          ]
        }
      ]
    }
  ]
}